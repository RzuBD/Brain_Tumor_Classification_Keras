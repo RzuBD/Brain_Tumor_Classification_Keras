{
 "cells": [
  {
   "cell_type": "code",
   "execution_count": null,
   "id": "3501120b",
   "metadata": {},
   "outputs": [],
   "source": [
    "import numpy as np\n",
    "import matplotlib.pyplot as plt\n",
    "import tensorflow as tf\n",
    "from tensorflow.keras.models import Sequential\n",
    "from tensorflow.keras.layers import Conv2D, Dropout, MaxPool2D, Dense, Flatten\n",
    "%matplotlib inline\n",
    "\n",
    "\n",
    "from sklearn.utils import shuffle\n",
    "\n",
    "# For Data Visualization\n",
    "import matplotlib.pyplot as plt\n",
    "import seaborn as sns\n",
    "# Miscellaneous\n",
    "from tqdm import tqdm\n",
    "import os\n",
    "import pandas as pd\n",
    "import random"
   ]
  },
  {
   "cell_type": "code",
   "execution_count": null,
   "id": "aad7bb80",
   "metadata": {},
   "outputs": [],
   "source": [
    "train_dir = '/kaggle/input/brain-tumor-mri-dataset/Training/'\n",
    "test_dir = '/kaggle/input/brain-tumor-mri-dataset/Testing/'\n",
    "\n",
    "train_paths = []\n",
    "train_labels = []\n",
    "\n",
    "for label in os.listdir(train_dir):\n",
    "    for image in os.listdir(train_dir+label):\n",
    "        train_paths.append(train_dir+label+'/'+image)\n",
    "        train_labels.append(label)\n",
    "\n",
    "train_paths, train_labels = shuffle(train_paths, train_labels)"
   ]
  },
  {
   "cell_type": "code",
   "execution_count": null,
   "id": "6870f8c7",
   "metadata": {},
   "outputs": [],
   "source": [
    "test_paths = []\n",
    "test_labels = []\n",
    "\n",
    "for label in os.listdir(test_dir):\n",
    "    for image in os.listdir(test_dir+label):\n",
    "        test_paths.append(test_dir+label+'/'+image)\n",
    "        test_labels.append(label)\n",
    "\n",
    "test_paths, test_labels = shuffle(test_paths, test_labels)"
   ]
  },
  {
   "cell_type": "code",
   "execution_count": null,
   "id": "82d67421",
   "metadata": {},
   "outputs": [],
   "source": [
    "# Building model\n",
    "classifier = Sequential()\n",
    "\n",
    "classifier.add(Conv2D(100, (3,3), activation='relu', input_shape=(150, 150, 3)))\n",
    "classifier.add(MaxPool2D(2,2))\n",
    "\n",
    "classifier.add(Conv2D(100, (3,3), activation='relu'))\n",
    "classifier.add(MaxPool2D(2,2))\n",
    "\n",
    "classifier.add(Flatten())\n",
    "classifier.add(Dropout(0.5))\n",
    "\n",
    "classifier.add(Dense(50, activation='relu'))\n",
    "classifier.add(Dense(4, activation='softmax'))"
   ]
  },
  {
   "cell_type": "code",
   "execution_count": null,
   "id": "d7b637fd",
   "metadata": {},
   "outputs": [],
   "source": [
    "tf.keras.utils.plot_model(classifier, show_shapes=True)\n"
   ]
  },
  {
   "cell_type": "code",
   "execution_count": null,
   "id": "40f71e77",
   "metadata": {},
   "outputs": [],
   "source": [
    "# Model Summary\n",
    "classifier.summary()"
   ]
  },
  {
   "cell_type": "code",
   "execution_count": null,
   "id": "745c008a",
   "metadata": {},
   "outputs": [],
   "source": [
    "# Compiling the model\n",
    "classifier.compile(optimizer='adam',loss='binary_crossentropy',metrics=['accuracy'])"
   ]
  },
  {
   "cell_type": "code",
   "execution_count": null,
   "id": "1a5a942d",
   "metadata": {},
   "outputs": [],
   "source": [
    "# Loading data and Image Augmentation\n",
    "from tensorflow.keras.preprocessing.image import ImageDataGenerator\n",
    "train_datagen = ImageDataGenerator(rescale=1.0/255)\n",
    "train_generator = train_datagen.flow_from_directory('/kaggle/input/brain-tumor-mri-dataset/Training', \n",
    "                                                    batch_size=10, \n",
    "                                                    target_size=(150, 150))\n",
    "validation_datagen = ImageDataGenerator(rescale=1.0/255)\n",
    "validation_generator = validation_datagen.flow_from_directory('/kaggle/input/brain-tumor-mri-dataset/Testing', \n",
    "                                                         batch_size=10, \n",
    "                                                         target_size=(150, 150))"
   ]
  },
  {
   "cell_type": "code",
   "execution_count": null,
   "id": "ef3dd30d",
   "metadata": {},
   "outputs": [],
   "source": [
    "# Model Checkpointing\n",
    "from tensorflow.keras.callbacks import TensorBoard, ModelCheckpoint\n",
    "checkpoint = ModelCheckpoint('model2-{epoch:03d}.model',monitor='val_loss',verbose=0,save_best_only=True,mode='auto')"
   ]
  },
  {
   "cell_type": "code",
   "execution_count": null,
   "id": "9c0497de",
   "metadata": {},
   "outputs": [],
   "source": [
    "# Training Model\n",
    "history = classifier.fit(train_generator,\n",
    "                                   epochs=10,\n",
    "                                   validation_data=validation_generator,\n",
    "                                   callbacks=[checkpoint],)"
   ]
  },
  {
   "cell_type": "code",
   "execution_count": null,
   "id": "36e574a4",
   "metadata": {},
   "outputs": [],
   "source": [
    "# validate on val set\n",
    "predictions = model.predict(X_val_prep)\n",
    "predictions = [1 if x>0.5 else 0 for x in predictions]\n",
    "\n",
    "accuracy = accuracy_score(y_val, predictions)\n",
    "print('Val Accuracy = %.2f' % accuracy)\n",
    "\n",
    "confusion_mtx = confusion_matrix(y_val, predictions) \n",
    "cm = plot_confusion_matrix(confusion_mtx, classes = list(labels.items()), normalize=False)"
   ]
  },
  {
   "cell_type": "code",
   "execution_count": null,
   "id": "7e4363f7",
   "metadata": {},
   "outputs": [],
   "source": [
    "# Loss Curves\n",
    "plt.figure(figsize=(8,6))\n",
    "plt.plot(history.history['loss'])\n",
    "plt.plot(history.history['val_loss'],ls='--')\n",
    "plt.legend(['Training Loss','Testing Loss'])\n",
    "plt.xlabel('Epochs')\n",
    "plt.ylabel('Loss')\n",
    "plt.title(\"Loss Curve\")\n",
    "\n",
    "# Accuracy Curves\n",
    "plt.figure(figsize=(8,6))\n",
    "plt.plot(history.history['accuracy'])\n",
    "plt.plot(history.history['val_accuracy'],ls='--')\n",
    "plt.legend(['Training Accuracy','Testing Accuracy'])\n",
    "plt.xlabel('Epochs')\n",
    "plt.ylabel('Accuracy')\n",
    "plt.title(\"Accuracy Curve\")"
   ]
  },
  {
   "cell_type": "code",
   "execution_count": null,
   "id": "7e597e28",
   "metadata": {},
   "outputs": [],
   "source": [
    "# Model Evaluation\n",
    "classifier.evaluate(validation_generator)"
   ]
  },
  {
   "cell_type": "code",
   "execution_count": null,
   "id": "4dae86ef",
   "metadata": {},
   "outputs": [],
   "source": [
    "# plot model performance\n",
    "acc = history.history['accuracy']\n",
    "val_acc = history.history['val_accuracy']\n",
    "loss = history.history['loss']\n",
    "val_loss = history.history['val_loss']\n",
    "epochs_range = range(1, len(history.epoch) + 1)\n",
    "\n",
    "plt.figure(figsize=(15,5))\n",
    "\n",
    "plt.subplot(1, 2, 1)\n",
    "plt.plot(epochs_range, acc, label='Train Set')\n",
    "plt.plot(epochs_range, val_acc, label='Val Set')\n",
    "plt.legend(loc=\"best\")\n",
    "plt.xlabel('Epochs')\n",
    "plt.ylabel('Accuracy')\n",
    "plt.title('Model Accuracy')\n",
    "\n",
    "plt.subplot(1, 2, 2)\n",
    "plt.plot(epochs_range, loss, label='Train Set')\n",
    "plt.plot(epochs_range, val_loss, label='Val Set')\n",
    "plt.legend(loc=\"best\")\n",
    "plt.xlabel('Epochs')\n",
    "plt.ylabel('Loss')\n",
    "plt.title('Model Loss')\n",
    "\n",
    "plt.tight_layout()\n",
    "plt.show()"
   ]
  },
  {
   "cell_type": "code",
   "execution_count": null,
   "id": "f096838b",
   "metadata": {},
   "outputs": [],
   "source": [
    "print(classification_report(y_true, y_pred))"
   ]
  },
  {
   "cell_type": "markdown",
   "id": "f5a5d236",
   "metadata": {},
   "source": [
    "Kaggle dataset :\n",
    "Brain Tumor MRI Dataset 156 MB\n",
    "https://www.kaggle.com/datasets/masoudnickparvar/brain-tumor-mri-dataset/data\n",
    "Kaggle site link: https://www.kaggle.com/code/meghna7040/brain-tumor-classification-with-sequential-arch\n",
    "https://www.kaggle.com/datasets/masoudnickparvar/brain-tumor-mri-dataset/data"
   ]
  },
  {
   "cell_type": "code",
   "execution_count": null,
   "id": "8e2ba775",
   "metadata": {},
   "outputs": [],
   "source": []
  }
 ],
 "metadata": {
  "kernelspec": {
   "display_name": "Python 3",
   "language": "python",
   "name": "python3"
  },
  "language_info": {
   "codemirror_mode": {
    "name": "ipython",
    "version": 3
   },
   "file_extension": ".py",
   "mimetype": "text/x-python",
   "name": "python",
   "nbconvert_exporter": "python",
   "pygments_lexer": "ipython3",
   "version": "3.8.8"
  }
 },
 "nbformat": 4,
 "nbformat_minor": 5
}
